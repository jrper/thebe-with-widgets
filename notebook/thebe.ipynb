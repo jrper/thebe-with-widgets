{
 "cells": [
  {
   "cell_type": "markdown",
   "id": "073a61c3",
   "metadata": {},
   "source": [
    "(launch:thebe)=\n",
    "# An executable book page with widgets\n",
    "\n",
    "This page demonstrates a widget-based teaching page leveraging Python to teach material in the theme of \"computational thinking. It uses the executable book project and thebe frameworks to \n",
    "\n",
    "To see the examples  {fa}`rocket` --> {guilabel}`Live Code` button above on this page, and run the code below."
   ]
  },
  {
   "cell_type": "code",
   "execution_count": null,
   "id": "e3a0e0af",
   "metadata": {},
   "outputs": [],
   "source": [
    "import numpy as np\n",
    "import matplotlib.pyplot as plt\n",
    "plt.ion()\n",
    "\n",
    "x = np.arange(500)\n",
    "y = np.random.randn(500)\n",
    "\n",
    "fig, ax = plt.subplots()\n",
    "ax.scatter(x, y, c=y, s=x)"
   ]
  },
  {
   "cell_type": "markdown",
   "id": "2b146cef",
   "metadata": {},
   "source": [
    "## Pre-execute cells when Thebe is initialized\n",
    "\n",
    "Sometimes you'd like to run some code cells *immediately* when a kernel is requested.\n",
    "This might be code that you then hide from the user in order to narrow the focus of what they interact with.\n",
    "This is possible by using **cell tags** for the Jupyter Notebook.\n",
    "\n",
    "Adding the tag {guilabel}`thebe-init` to any code cell will cause Thebe to run this cell after it has received a kernel.\n",
    "Any subsequent Thebe cells will have access to the same environment (e.g. any module imports made in the initialization cell).\n",
    "\n",
    "You can then pair this with something like {guilabel}`hide-input` in order to run initialization code that your user doesn't immediately see.\n",
    "For example, below we'll initialize a variable in a hidden cell, and then tell another cell to print the output of that variable."
   ]
  },
  {
   "cell_type": "code",
   "execution_count": 1,
   "id": "02c557e4",
   "metadata": {
    "tags": [
     "hide-input",
     "thebe-init"
    ]
   },
   "outputs": [],
   "source": [
    "from gates import *\n",
    "from operator import *\n",
    "from IPython.display import display"
   ]
  },
  {
   "cell_type": "markdown",
   "id": "50041d2b",
   "metadata": {},
   "source": [
    "AND is a logical operation which has two inputs, and one output. The output is FALSE unless both inputs are TRUE. This means that it works just like \"and\" in compound conditional statements in English\n",
    "> We'll go to the park if you clean your room and do your homework."
   ]
  },
  {
   "cell_type": "code",
   "execution_count": 3,
   "id": "4ed0aa52",
   "metadata": {},
   "outputs": [
    {
     "data": {
      "application/vnd.jupyter.widget-view+json": {
       "model_id": "06b81c36218744f4a63f147da814c34b",
       "version_major": 2,
       "version_minor": 0
      },
      "text/plain": [
       "GridspecLayout(children=(ToggleButton(value=False, button_style='info', description='Input One', icon='close',…"
      ]
     },
     "metadata": {},
     "output_type": "display_data"
    },
    {
     "data": {
      "text/plain": [
       "None"
      ]
     },
     "metadata": {},
     "output_type": "display_data"
    }
   ],
   "source": [
    "display(gate(and_, 'AND'))"
   ]
  }
 ],
 "metadata": {
  "jupytext": {
   "formats": "md:myst,ipynb"
  },
  "kernelspec": {
   "display_name": "Python 3.8.8",
   "language": "python",
   "name": "python3"
  },
  "language_info": {
   "codemirror_mode": {
    "name": "ipython",
    "version": 3
   },
   "file_extension": ".py",
   "mimetype": "text/x-python",
   "name": "python",
   "nbconvert_exporter": "python",
   "pygments_lexer": "ipython3",
   "version": "3.8.8"
  },
  "vscode": {
   "interpreter": {
    "hash": "24de786bfc5e57b5c0c1b7e17e80ed566b058e2a0dddf807d87f7d4726182895"
   }
  }
 },
 "nbformat": 4,
 "nbformat_minor": 5
}
